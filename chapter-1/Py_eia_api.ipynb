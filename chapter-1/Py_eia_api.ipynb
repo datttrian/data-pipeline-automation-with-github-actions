{
 "cells": [
  {
   "cell_type": "markdown",
   "metadata": {},
   "source": [
    "# Chapter 1 - EIA API - Python Client"
   ]
  },
  {
   "cell_type": "markdown",
   "metadata": {},
   "source": [
    "In this section, we will see how query the EIA API with Python using. We will use the eia_api.py to send GET requests to the API.\n",
    "\n",
    "We will continue with the same example we used before - the hourly demand of electricity for balancing authority subregion PGAE. As before, we will use the API dashboard to extract the GET request:\n",
    "\n",
    "<figure>\n",
    "<img src=\"./images/query-detail.png\" width=\"100%\" align=\"center\"/></a>\n",
    "<figcaption> Figure 1 - The GET request details for balancing authority subregion PGAE</figcaption>\n",
    "</figure>"
   ]
  },
  {
   "cell_type": "markdown",
   "metadata": {},
   "source": [
    "The `eia_api.py` file provides a set of functions to query data from the EIA API V2. This includes the following functions:\n",
    "\n",
    "- `eia_get` - to send GET request for data\n",
    "- `eia_metadata` - to send GET request for metadata\n",
    "- `eia_backfill` - to send a GET request for large data (more than 5000 observations)"
   ]
  },
  {
   "cell_type": "code",
   "execution_count": 7,
   "metadata": {},
   "outputs": [],
   "source": [
    "import eia_api as api"
   ]
  },
  {
   "cell_type": "markdown",
   "metadata": {},
   "source": [
    "In addition, we will import the following libraries:"
   ]
  },
  {
   "cell_type": "code",
   "execution_count": 8,
   "metadata": {},
   "outputs": [],
   "source": [
    "import os\n",
    "import datetime\n",
    "import plotly.express as px"
   ]
  },
  {
   "cell_type": "markdown",
   "metadata": {},
   "source": [
    "## Pulling Metadata\n",
    "\n",
    "Setting the api key and the api path to pull data:"
   ]
  },
  {
   "cell_type": "code",
   "execution_count": 9,
   "metadata": {},
   "outputs": [],
   "source": [
    "api_key = os.getenv('EIA_API_KEY')\n",
    "\n",
    "api_meta_path = \"electricity/rto/region-sub-ba-data/\""
   ]
  },
  {
   "cell_type": "code",
   "execution_count": 10,
   "metadata": {},
   "outputs": [
    {
     "data": {
      "text/plain": [
       "'dxkgn3KIeYc4tlAsjaUtCeQw30lCNxLHJg9t3JGZ'"
      ]
     },
     "execution_count": 10,
     "metadata": {},
     "output_type": "execute_result"
    }
   ],
   "source": [
    "api_key"
   ]
  },
  {
   "cell_type": "markdown",
   "metadata": {},
   "source": [
    "Sending GET request for route metadata:"
   ]
  },
  {
   "cell_type": "code",
   "execution_count": 11,
   "metadata": {},
   "outputs": [],
   "source": [
    "meta = api.eia_metadata(\n",
    "    api_key = api_key,\n",
    "    api_path = api_meta_path  \n",
    ")"
   ]
  },
  {
   "cell_type": "code",
   "execution_count": 12,
   "metadata": {},
   "outputs": [
    {
     "data": {
      "text/plain": [
       "{'id': 'region-sub-ba-data',\n",
       " 'name': 'Hourly Demand by Subregion',\n",
       " 'description': 'Hourly demand by balancing authority subregion.  \\n    Source: Form EIA-930\\n    Product: Hourly Electric Grid Monitor',\n",
       " 'frequency': [{'id': 'hourly',\n",
       "   'alias': 'hourly (UTC)',\n",
       "   'description': 'One data point for each hour in UTC time.',\n",
       "   'query': 'H',\n",
       "   'format': 'YYYY-MM-DD\"T\"HH24'},\n",
       "  {'id': 'local-hourly',\n",
       "   'alias': 'hourly (Local Time Zone)',\n",
       "   'description': 'One data point for each hour in local time.',\n",
       "   'query': 'LH',\n",
       "   'format': 'YYYY-MM-DD\"T\"HH24TZH'}],\n",
       " 'facets': [{'id': 'subba', 'description': 'Subregion'},\n",
       "  {'id': 'parent', 'description': 'Balancing Authority'}],\n",
       " 'data': {'value': {'aggregation-method': 'SUM',\n",
       "   'alias': 'Demand',\n",
       "   'units': 'megawatthours'}},\n",
       " 'startPeriod': '2018-06-19T05',\n",
       " 'endPeriod': '2024-08-05T07',\n",
       " 'defaultDateFormat': 'YYYY-MM-DD\"T\"HH24',\n",
       " 'defaultFrequency': 'hourly'}"
      ]
     },
     "execution_count": 12,
     "metadata": {},
     "output_type": "execute_result"
    }
   ],
   "source": [
    "meta.meta"
   ]
  },
  {
   "cell_type": "markdown",
   "metadata": {},
   "source": [
    "## Sending A Simple GET Request\n",
    "\n",
    "Setting a GET Request:"
   ]
  },
  {
   "cell_type": "code",
   "execution_count": 13,
   "metadata": {},
   "outputs": [],
   "source": [
    "api_key = os.getenv('EIA_API_KEY')\n",
    "\n",
    "api_path = \"electricity/rto/region-sub-ba-data/data/\"\n",
    "\n",
    "frequency = \"hourly\"\n",
    "\n",
    "facets = {\n",
    "    \"parent\": \"CISO\",\n",
    "    \"subba\": \"PGAE\"\n",
    "}"
   ]
  },
  {
   "cell_type": "code",
   "execution_count": 14,
   "metadata": {},
   "outputs": [],
   "source": [
    "df1 = api.eia_get(\n",
    "    api_key = api_key,\n",
    "    api_path = api_path,\n",
    "    frequency = frequency,\n",
    "    facets = facets\n",
    ")"
   ]
  },
  {
   "cell_type": "code",
   "execution_count": 15,
   "metadata": {},
   "outputs": [
    {
     "data": {
      "text/plain": [
       "'https://api.eia.gov/v2/electricity/rto/region-sub-ba-data/data/?data[]=value&facets[parent][]=CISO&facets[subba][]=PGAE&frequency=hourly&api_key='"
      ]
     },
     "execution_count": 15,
     "metadata": {},
     "output_type": "execute_result"
    }
   ],
   "source": [
    "df1.url"
   ]
  },
  {
   "cell_type": "code",
   "execution_count": 16,
   "metadata": {},
   "outputs": [
    {
     "data": {
      "text/plain": [
       "{'api_path': 'electricity/rto/region-sub-ba-data/data/',\n",
       " 'data': 'value',\n",
       " 'facets': {'parent': 'CISO', 'subba': 'PGAE'},\n",
       " 'start': None,\n",
       " 'end': None,\n",
       " 'length': None,\n",
       " 'offset': None,\n",
       " 'frequency': 'hourly'}"
      ]
     },
     "execution_count": 16,
     "metadata": {},
     "output_type": "execute_result"
    }
   ],
   "source": [
    "df1.parameters"
   ]
  },
  {
   "cell_type": "code",
   "execution_count": 17,
   "metadata": {},
   "outputs": [
    {
     "data": {
      "text/html": [
       "<div>\n",
       "<style scoped>\n",
       "    .dataframe tbody tr th:only-of-type {\n",
       "        vertical-align: middle;\n",
       "    }\n",
       "\n",
       "    .dataframe tbody tr th {\n",
       "        vertical-align: top;\n",
       "    }\n",
       "\n",
       "    .dataframe thead th {\n",
       "        text-align: right;\n",
       "    }\n",
       "</style>\n",
       "<table border=\"1\" class=\"dataframe\">\n",
       "  <thead>\n",
       "    <tr style=\"text-align: right;\">\n",
       "      <th></th>\n",
       "      <th>period</th>\n",
       "      <th>subba</th>\n",
       "      <th>subba-name</th>\n",
       "      <th>parent</th>\n",
       "      <th>parent-name</th>\n",
       "      <th>value</th>\n",
       "      <th>value-units</th>\n",
       "    </tr>\n",
       "  </thead>\n",
       "  <tbody>\n",
       "    <tr>\n",
       "      <th>4031</th>\n",
       "      <td>2018-07-02 22:00:00</td>\n",
       "      <td>PGAE</td>\n",
       "      <td>Pacific Gas and Electric</td>\n",
       "      <td>CISO</td>\n",
       "      <td>California Independent System Operator</td>\n",
       "      <td>14310</td>\n",
       "      <td>megawatthours</td>\n",
       "    </tr>\n",
       "    <tr>\n",
       "      <th>4032</th>\n",
       "      <td>2018-07-02 23:00:00</td>\n",
       "      <td>PGAE</td>\n",
       "      <td>Pacific Gas and Electric</td>\n",
       "      <td>CISO</td>\n",
       "      <td>California Independent System Operator</td>\n",
       "      <td>14895</td>\n",
       "      <td>megawatthours</td>\n",
       "    </tr>\n",
       "    <tr>\n",
       "      <th>4033</th>\n",
       "      <td>2018-07-03 01:00:00</td>\n",
       "      <td>PGAE</td>\n",
       "      <td>Pacific Gas and Electric</td>\n",
       "      <td>CISO</td>\n",
       "      <td>California Independent System Operator</td>\n",
       "      <td>15871</td>\n",
       "      <td>megawatthours</td>\n",
       "    </tr>\n",
       "    <tr>\n",
       "      <th>4034</th>\n",
       "      <td>2018-07-03 02:00:00</td>\n",
       "      <td>PGAE</td>\n",
       "      <td>Pacific Gas and Electric</td>\n",
       "      <td>CISO</td>\n",
       "      <td>California Independent System Operator</td>\n",
       "      <td>16086</td>\n",
       "      <td>megawatthours</td>\n",
       "    </tr>\n",
       "    <tr>\n",
       "      <th>4035</th>\n",
       "      <td>2018-07-03 04:00:00</td>\n",
       "      <td>PGAE</td>\n",
       "      <td>Pacific Gas and Electric</td>\n",
       "      <td>CISO</td>\n",
       "      <td>California Independent System Operator</td>\n",
       "      <td>15651</td>\n",
       "      <td>megawatthours</td>\n",
       "    </tr>\n",
       "    <tr>\n",
       "      <th>...</th>\n",
       "      <td>...</td>\n",
       "      <td>...</td>\n",
       "      <td>...</td>\n",
       "      <td>...</td>\n",
       "      <td>...</td>\n",
       "      <td>...</td>\n",
       "      <td>...</td>\n",
       "    </tr>\n",
       "    <tr>\n",
       "      <th>425</th>\n",
       "      <td>2023-11-01 02:00:00</td>\n",
       "      <td>PGAE</td>\n",
       "      <td>Pacific Gas and Electric</td>\n",
       "      <td>CISO</td>\n",
       "      <td>California Independent System Operator</td>\n",
       "      <td>11411</td>\n",
       "      <td>megawatthours</td>\n",
       "    </tr>\n",
       "    <tr>\n",
       "      <th>399</th>\n",
       "      <td>2023-11-01 03:00:00</td>\n",
       "      <td>PGAE</td>\n",
       "      <td>Pacific Gas and Electric</td>\n",
       "      <td>CISO</td>\n",
       "      <td>California Independent System Operator</td>\n",
       "      <td>11802</td>\n",
       "      <td>megawatthours</td>\n",
       "    </tr>\n",
       "    <tr>\n",
       "      <th>468</th>\n",
       "      <td>2023-11-01 05:00:00</td>\n",
       "      <td>PGAE</td>\n",
       "      <td>Pacific Gas and Electric</td>\n",
       "      <td>CISO</td>\n",
       "      <td>California Independent System Operator</td>\n",
       "      <td>11305</td>\n",
       "      <td>megawatthours</td>\n",
       "    </tr>\n",
       "    <tr>\n",
       "      <th>388</th>\n",
       "      <td>2023-11-01 06:00:00</td>\n",
       "      <td>PGAE</td>\n",
       "      <td>Pacific Gas and Electric</td>\n",
       "      <td>CISO</td>\n",
       "      <td>California Independent System Operator</td>\n",
       "      <td>11150</td>\n",
       "      <td>megawatthours</td>\n",
       "    </tr>\n",
       "    <tr>\n",
       "      <th>2017</th>\n",
       "      <td>2023-11-01 22:00:00</td>\n",
       "      <td>PGAE</td>\n",
       "      <td>Pacific Gas and Electric</td>\n",
       "      <td>CISO</td>\n",
       "      <td>California Independent System Operator</td>\n",
       "      <td>9801</td>\n",
       "      <td>megawatthours</td>\n",
       "    </tr>\n",
       "  </tbody>\n",
       "</table>\n",
       "<p>5000 rows × 7 columns</p>\n",
       "</div>"
      ],
      "text/plain": [
       "                  period subba                subba-name parent  \\\n",
       "4031 2018-07-02 22:00:00  PGAE  Pacific Gas and Electric   CISO   \n",
       "4032 2018-07-02 23:00:00  PGAE  Pacific Gas and Electric   CISO   \n",
       "4033 2018-07-03 01:00:00  PGAE  Pacific Gas and Electric   CISO   \n",
       "4034 2018-07-03 02:00:00  PGAE  Pacific Gas and Electric   CISO   \n",
       "4035 2018-07-03 04:00:00  PGAE  Pacific Gas and Electric   CISO   \n",
       "...                  ...   ...                       ...    ...   \n",
       "425  2023-11-01 02:00:00  PGAE  Pacific Gas and Electric   CISO   \n",
       "399  2023-11-01 03:00:00  PGAE  Pacific Gas and Electric   CISO   \n",
       "468  2023-11-01 05:00:00  PGAE  Pacific Gas and Electric   CISO   \n",
       "388  2023-11-01 06:00:00  PGAE  Pacific Gas and Electric   CISO   \n",
       "2017 2023-11-01 22:00:00  PGAE  Pacific Gas and Electric   CISO   \n",
       "\n",
       "                                 parent-name  value    value-units  \n",
       "4031  California Independent System Operator  14310  megawatthours  \n",
       "4032  California Independent System Operator  14895  megawatthours  \n",
       "4033  California Independent System Operator  15871  megawatthours  \n",
       "4034  California Independent System Operator  16086  megawatthours  \n",
       "4035  California Independent System Operator  15651  megawatthours  \n",
       "...                                      ...    ...            ...  \n",
       "425   California Independent System Operator  11411  megawatthours  \n",
       "399   California Independent System Operator  11802  megawatthours  \n",
       "468   California Independent System Operator  11305  megawatthours  \n",
       "388   California Independent System Operator  11150  megawatthours  \n",
       "2017  California Independent System Operator   9801  megawatthours  \n",
       "\n",
       "[5000 rows x 7 columns]"
      ]
     },
     "execution_count": 17,
     "metadata": {},
     "output_type": "execute_result"
    }
   ],
   "source": [
    "df1.data"
   ]
  },
  {
   "cell_type": "code",
   "execution_count": 18,
   "metadata": {},
   "outputs": [
    {
     "data": {
      "text/plain": [
       "period         datetime64[ns]\n",
       "subba                  object\n",
       "subba-name             object\n",
       "parent                 object\n",
       "parent-name            object\n",
       "value                   int64\n",
       "value-units            object\n",
       "dtype: object"
      ]
     },
     "execution_count": 18,
     "metadata": {},
     "output_type": "execute_result"
    }
   ],
   "source": [
    "df1.data.dtypes"
   ]
  },
  {
   "cell_type": "markdown",
   "metadata": {},
   "source": [
    "## API Limitation"
   ]
  },
  {
   "cell_type": "markdown",
   "metadata": {},
   "source": [
    "Let's plot the series:"
   ]
  },
  {
   "cell_type": "code",
   "execution_count": null,
   "metadata": {},
   "outputs": [],
   "source": [
    "px.line(df1.data, x= \"period\", y= \"value\")"
   ]
  },
  {
   "cell_type": "markdown",
   "metadata": {},
   "source": [
    "The `start` and `end` arguments enable us to set a time range to the GET request. For example, let's pull data betweem January 1st, 2024 and February 24th, 2024:"
   ]
  },
  {
   "cell_type": "code",
   "execution_count": null,
   "metadata": {},
   "outputs": [],
   "source": [
    "start = datetime.datetime(2024, 1, 1, 1)\n",
    "end = datetime.datetime(2024, 2, 24, 23)\n",
    "\n",
    "df2 = api.eia_get(\n",
    "    api_key = api_key,\n",
    "    api_path = api_path,\n",
    "    frequency = frequency,\n",
    "    facets = facets,\n",
    "    start = start,\n",
    "    end = end\n",
    ")"
   ]
  },
  {
   "cell_type": "code",
   "execution_count": null,
   "metadata": {},
   "outputs": [],
   "source": [
    "px.line(df2.data, x=\"period\", y=\"value\")"
   ]
  },
  {
   "cell_type": "markdown",
   "metadata": {},
   "source": [
    "## Handling A Large Data Request"
   ]
  },
  {
   "cell_type": "markdown",
   "metadata": {},
   "source": [
    "When we have to pull a series with a number of observations that exceed the API limitation of 5000 observations per call, use the `eia_backfill` function. The function splits the request into multiple small requests, where the `offset` argument defines the size of each request. It is recommended not to use an offset larger than 2500 observations. For example, let's pull data since July 1st, 2018:"
   ]
  },
  {
   "cell_type": "code",
   "execution_count": null,
   "metadata": {},
   "outputs": [],
   "source": [
    "start = datetime.datetime(2018, 7, 1, 8)\n",
    "end = datetime.datetime(2024, 2, 24, 23)\n",
    "offset = 2250\n",
    "\n",
    "df3 = api.eia_backfill(\n",
    "  start = start,\n",
    "  end = end,\n",
    "  offset = offset,\n",
    "  api_path= api_path,\n",
    "  api_key = api_key,\n",
    "  facets = facets)"
   ]
  },
  {
   "cell_type": "code",
   "execution_count": null,
   "metadata": {},
   "outputs": [],
   "source": [
    "df3.data"
   ]
  },
  {
   "cell_type": "code",
   "execution_count": null,
   "metadata": {},
   "outputs": [],
   "source": [
    "p = px.line(df3.data, x=\"period\", y=\"value\")\n",
    "p.show()"
   ]
  },
  {
   "cell_type": "code",
   "execution_count": null,
   "metadata": {},
   "outputs": [],
   "source": []
  }
 ],
 "metadata": {
  "kernelspec": {
   "display_name": "R_ENV",
   "language": "python",
   "name": "python3"
  },
  "language_info": {
   "codemirror_mode": {
    "name": "ipython",
    "version": 3
   },
   "file_extension": ".py",
   "mimetype": "text/x-python",
   "name": "python",
   "nbconvert_exporter": "python",
   "pygments_lexer": "ipython3",
   "version": "3.10.12"
  }
 },
 "nbformat": 4,
 "nbformat_minor": 2
}
