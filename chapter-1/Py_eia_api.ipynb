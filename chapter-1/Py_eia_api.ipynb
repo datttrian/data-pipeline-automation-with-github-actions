{
 "cells": [
  {
   "cell_type": "markdown",
   "metadata": {},
   "source": [
    "# Chapter 1 - EIA API - Python Client"
   ]
  },
  {
   "cell_type": "markdown",
   "metadata": {},
   "source": [
    "In this section, we will see how query the EIA API with Python using. We will use the eia_api.py to send GET requests to the API.\n",
    "\n",
    "We will continue with the same example we used before - the hourly demand of electricity for balancing authority subregion PGAE. As before, we will use the API dashboard to extract the GET request:\n",
    "\n",
    "<figure>\n",
    "<img src=\"./images/query-detail.png\" width=\"100%\" align=\"center\"/></a>\n",
    "<figcaption> Figure 1 - The GET request details for balancing authority subregion PGAE</figcaption>\n",
    "</figure>"
   ]
  },
  {
   "cell_type": "markdown",
   "metadata": {},
   "source": [
    "The `eia_api.py` file provides a set of functions to query data from the EIA API V2. This includes the following functions:\n",
    "\n",
    "- `eia_get` - to send GET request for data\n",
    "- `eia_metadata` - to send GET request for metadata\n",
    "- `eia_backfill` - to send a GET request for large data (more than 5000 observations)"
   ]
  },
  {
   "cell_type": "code",
   "execution_count": 1,
   "metadata": {},
   "outputs": [],
   "source": [
    "import eia_api as api"
   ]
  },
  {
   "cell_type": "markdown",
   "metadata": {},
   "source": [
    "In addition, we will import the following libraries:"
   ]
  },
  {
   "cell_type": "code",
   "execution_count": 2,
   "metadata": {},
   "outputs": [],
   "source": [
    "import os\n",
    "import datetime\n",
    "import plotly.express as px"
   ]
  },
  {
   "cell_type": "markdown",
   "metadata": {},
   "source": [
    "## Pulling Metadata\n",
    "\n",
    "Setting the api key and the api path to pull data:"
   ]
  },
  {
   "cell_type": "code",
   "execution_count": 3,
   "metadata": {},
   "outputs": [],
   "source": [
    "api_key = os.getenv('EIA_API_KEY')\n",
    "\n",
    "api_meta_path = \"electricity/rto/region-sub-ba-data/\""
   ]
  },
  {
   "cell_type": "code",
   "execution_count": 4,
   "metadata": {},
   "outputs": [
    {
     "data": {
      "text/plain": [
       "'dxkgn3KIeYc4tlAsjaUtCeQw30lCNxLHJg9t3JGZ'"
      ]
     },
     "execution_count": 4,
     "metadata": {},
     "output_type": "execute_result"
    }
   ],
   "source": [
    "api_key"
   ]
  },
  {
   "cell_type": "markdown",
   "metadata": {},
   "source": [
    "Sending GET request for route metadata:"
   ]
  },
  {
   "cell_type": "code",
   "execution_count": 5,
   "metadata": {},
   "outputs": [],
   "source": [
    "meta = api.eia_metadata(\n",
    "    api_key = api_key,\n",
    "    api_path = api_meta_path  \n",
    ")"
   ]
  },
  {
   "cell_type": "code",
   "execution_count": 6,
   "metadata": {},
   "outputs": [
    {
     "data": {
      "text/plain": [
       "{'id': 'region-sub-ba-data',\n",
       " 'name': 'Hourly Demand by Subregion',\n",
       " 'description': 'Hourly demand by balancing authority subregion.  \\n    Source: Form EIA-930\\n    Product: Hourly Electric Grid Monitor',\n",
       " 'frequency': [{'id': 'hourly',\n",
       "   'alias': 'hourly (UTC)',\n",
       "   'description': 'One data point for each hour in UTC time.',\n",
       "   'query': 'H',\n",
       "   'format': 'YYYY-MM-DD\"T\"HH24'},\n",
       "  {'id': 'local-hourly',\n",
       "   'alias': 'hourly (Local Time Zone)',\n",
       "   'description': 'One data point for each hour in local time.',\n",
       "   'query': 'LH',\n",
       "   'format': 'YYYY-MM-DD\"T\"HH24TZH'}],\n",
       " 'facets': [{'id': 'subba', 'description': 'Subregion'},\n",
       "  {'id': 'parent', 'description': 'Balancing Authority'}],\n",
       " 'data': {'value': {'aggregation-method': 'SUM',\n",
       "   'alias': 'Demand',\n",
       "   'units': 'megawatthours'}},\n",
       " 'startPeriod': '2018-06-19T05',\n",
       " 'endPeriod': '2024-08-05T07',\n",
       " 'defaultDateFormat': 'YYYY-MM-DD\"T\"HH24',\n",
       " 'defaultFrequency': 'hourly'}"
      ]
     },
     "execution_count": 6,
     "metadata": {},
     "output_type": "execute_result"
    }
   ],
   "source": [
    "meta.meta"
   ]
  },
  {
   "cell_type": "markdown",
   "metadata": {},
   "source": [
    "## Sending A Simple GET Request\n",
    "\n",
    "Setting a GET Request:"
   ]
  },
  {
   "cell_type": "code",
   "execution_count": null,
   "metadata": {},
   "outputs": [],
   "source": [
    "api_key = os.getenv('EIA_API_KEY')\n",
    "\n",
    "api_path = \"electricity/rto/region-sub-ba-data/data/\"\n",
    "\n",
    "frequency = \"hourly\"\n",
    "\n",
    "facets = {\n",
    "    \"parent\": \"CISO\",\n",
    "    \"subba\": \"PGAE\"\n",
    "}"
   ]
  },
  {
   "cell_type": "code",
   "execution_count": null,
   "metadata": {},
   "outputs": [],
   "source": [
    "df1 = api.eia_get(\n",
    "    api_key = api_key,\n",
    "    api_path = api_path,\n",
    "    frequency = frequency,\n",
    "    facets = facets\n",
    ")"
   ]
  },
  {
   "cell_type": "code",
   "execution_count": null,
   "metadata": {},
   "outputs": [],
   "source": [
    "df1.url"
   ]
  },
  {
   "cell_type": "code",
   "execution_count": null,
   "metadata": {},
   "outputs": [],
   "source": [
    "df1.parameters"
   ]
  },
  {
   "cell_type": "code",
   "execution_count": null,
   "metadata": {},
   "outputs": [],
   "source": [
    "df1.data"
   ]
  },
  {
   "cell_type": "code",
   "execution_count": null,
   "metadata": {},
   "outputs": [],
   "source": [
    "df1.data.dtypes"
   ]
  },
  {
   "cell_type": "markdown",
   "metadata": {},
   "source": [
    "## API Limitation"
   ]
  },
  {
   "cell_type": "markdown",
   "metadata": {},
   "source": [
    "Let's plot the series:"
   ]
  },
  {
   "cell_type": "code",
   "execution_count": null,
   "metadata": {},
   "outputs": [],
   "source": [
    "px.line(df1.data, x= \"period\", y= \"value\")"
   ]
  },
  {
   "cell_type": "markdown",
   "metadata": {},
   "source": [
    "The `start` and `end` arguments enable us to set a time range to the GET request. For example, let's pull data betweem January 1st, 2024 and February 24th, 2024:"
   ]
  },
  {
   "cell_type": "code",
   "execution_count": null,
   "metadata": {},
   "outputs": [],
   "source": [
    "start = datetime.datetime(2024, 1, 1, 1)\n",
    "end = datetime.datetime(2024, 2, 24, 23)\n",
    "\n",
    "df2 = api.eia_get(\n",
    "    api_key = api_key,\n",
    "    api_path = api_path,\n",
    "    frequency = frequency,\n",
    "    facets = facets,\n",
    "    start = start,\n",
    "    end = end\n",
    ")"
   ]
  },
  {
   "cell_type": "code",
   "execution_count": null,
   "metadata": {},
   "outputs": [],
   "source": [
    "px.line(df2.data, x=\"period\", y=\"value\")"
   ]
  },
  {
   "cell_type": "markdown",
   "metadata": {},
   "source": [
    "## Handling A Large Data Request"
   ]
  },
  {
   "cell_type": "markdown",
   "metadata": {},
   "source": [
    "When we have to pull a series with a number of observations that exceed the API limitation of 5000 observations per call, use the `eia_backfill` function. The function splits the request into multiple small requests, where the `offset` argument defines the size of each request. It is recommended not to use an offset larger than 2500 observations. For example, let's pull data since July 1st, 2018:"
   ]
  },
  {
   "cell_type": "code",
   "execution_count": null,
   "metadata": {},
   "outputs": [],
   "source": [
    "start = datetime.datetime(2018, 7, 1, 8)\n",
    "end = datetime.datetime(2024, 2, 24, 23)\n",
    "offset = 2250\n",
    "\n",
    "df3 = api.eia_backfill(\n",
    "  start = start,\n",
    "  end = end,\n",
    "  offset = offset,\n",
    "  api_path= api_path,\n",
    "  api_key = api_key,\n",
    "  facets = facets)"
   ]
  },
  {
   "cell_type": "code",
   "execution_count": null,
   "metadata": {},
   "outputs": [],
   "source": [
    "df3.data"
   ]
  },
  {
   "cell_type": "code",
   "execution_count": null,
   "metadata": {},
   "outputs": [],
   "source": [
    "p = px.line(df3.data, x=\"period\", y=\"value\")\n",
    "p.show()"
   ]
  },
  {
   "cell_type": "code",
   "execution_count": null,
   "metadata": {},
   "outputs": [],
   "source": []
  }
 ],
 "metadata": {
  "kernelspec": {
   "display_name": "R_ENV",
   "language": "python",
   "name": "python3"
  },
  "language_info": {
   "codemirror_mode": {
    "name": "ipython",
    "version": 3
   },
   "file_extension": ".py",
   "mimetype": "text/x-python",
   "name": "python",
   "nbconvert_exporter": "python",
   "pygments_lexer": "ipython3",
   "version": "3.10.12"
  }
 },
 "nbformat": 4,
 "nbformat_minor": 2
}
